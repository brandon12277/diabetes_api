{
 "cells": [
  {
   "cell_type": "code",
   "execution_count": 34,
   "id": "7c10b9f7-976b-4f6f-bfee-e83c58a3579d",
   "metadata": {},
   "outputs": [],
   "source": [
    "# !pip install tensorflow\n",
    "\n",
    "\n",
    "# pip install pandas joblib scikit-learn \n",
    "#Packages installed"
   ]
  },
  {
   "cell_type": "code",
   "execution_count": 35,
   "id": "c5f05f8d-6918-42ab-80d8-a055f01b72f8",
   "metadata": {},
   "outputs": [],
   "source": [
    "import pandas as pd\n",
    "import numpy as np\n",
    "import joblib\n",
    "import tensorflow as tf\n",
    "import matplotlib.pyplot as plt"
   ]
  },
  {
   "cell_type": "markdown",
   "id": "a6b90410-f3f0-4315-8511-b92159743801",
   "metadata": {},
   "source": [
    "# Dataset breakup "
   ]
  },
  {
   "cell_type": "code",
   "execution_count": 36,
   "id": "8282adc3-011f-427e-ac3a-4b16a9836339",
   "metadata": {},
   "outputs": [
    {
     "name": "stdout",
     "output_type": "stream",
     "text": [
      "[[1. 1. 1. ... 0. 0. 9.]\n",
      " [0. 0. 0. ... 0. 1. 7.]\n",
      " [1. 1. 1. ... 0. 0. 9.]\n",
      " ...\n",
      " [0. 0. 1. ... 0. 1. 2.]\n",
      " [1. 0. 1. ... 0. 0. 7.]\n",
      " [1. 1. 1. ... 1. 1. 9.]]\n",
      "[0. 0. 0. ... 0. 0. 2.]\n"
     ]
    }
   ],
   "source": [
    "dataset = pd.read_csv(\"diabetes_012_health_indicators_BRFSS2015.csv\")\n",
    "\n",
    "rangeX = list(range(1,9)) + [-3] \n",
    "\n",
    "X = dataset.iloc[:, rangeX].values\n",
    "Y = dataset.iloc[:, 0].values\n",
    "\n",
    "\n",
    "print(X)\n",
    "print(Y)"
   ]
  },
  {
   "cell_type": "markdown",
   "id": "2153f945-acac-4d93-9a42-5a23ba930879",
   "metadata": {},
   "source": [
    "# Label Encoding"
   ]
  },
  {
   "cell_type": "code",
   "execution_count": 37,
   "id": "1e4e808b-841e-4ab8-a7d2-94e15c54016f",
   "metadata": {},
   "outputs": [
    {
     "name": "stdout",
     "output_type": "stream",
     "text": [
      "[0 0 0 ... 0 0 2]\n"
     ]
    }
   ],
   "source": [
    "from sklearn.preprocessing import LabelEncoder\n",
    "\n",
    "label_encoder = LabelEncoder()\n",
    "Y = label_encoder.fit_transform(Y)\n",
    "\n",
    "print(Y)\n"
   ]
  },
  {
   "cell_type": "markdown",
   "id": "18490287-6bdf-4fc3-85d0-2418e4482e21",
   "metadata": {},
   "source": [
    "# Class Split up "
   ]
  },
  {
   "cell_type": "code",
   "execution_count": 40,
   "id": "4ec6b689-6097-4a6d-8cb8-8ee3255ef00e",
   "metadata": {},
   "outputs": [
    {
     "name": "stdout",
     "output_type": "stream",
     "text": [
      "[213703   4631  35346]\n"
     ]
    },
    {
     "data": {
      "image/png": "[encoded data removed]",
      "text/plain": [
       "<Figure size 640x480 with 1 Axes>"
      ]
     },
     "metadata": {},
     "output_type": "display_data"
    }
   ],
   "source": [
    "count_classes = np.bincount(Y)\n",
    "\n",
    "\n",
    "print(count_classes)\n",
    "\n",
    "plt.bar(range(len(count_classes)), count_classes, color=['red', 'green', 'blue'])\n",
    "plt.xticks(range(len(count_classes)), labels=['0', '1', '2'])\n",
    "plt.xlabel('Class')\n",
    "plt.ylabel('Count')\n",
    "plt.title('Distribution of classes')\n",
    "plt.show()\n",
    "\n",
    "# 1 class count low fuckkkk \n",
    "\n"
   ]
  },
  {
   "cell_type": "markdown",
   "id": "d9f00651-128b-40d6-8e64-3561825ad0dc",
   "metadata": {},
   "source": [
    "# Splitting Dataset"
   ]
  },
  {
   "cell_type": "code",
   "execution_count": 21,
   "id": "17890a96-3533-479e-92e7-b39a135c6e38",
   "metadata": {},
   "outputs": [],
   "source": [
    "from sklearn.model_selection import train_test_split\n",
    "X_train, X_test, y_train, y_test = train_test_split(X, Y, test_size = 0.2, random_state = 0)"
   ]
  },
  {
   "cell_type": "markdown",
   "id": "51347adb-6750-45a5-8e72-63338c9988e9",
   "metadata": {},
   "source": [
    "# Scalarization"
   ]
  },
  {
   "cell_type": "code",
   "execution_count": 22,
   "id": "9ead0f42-461e-4ed5-ad78-5bc2efc12355",
   "metadata": {},
   "outputs": [],
   "source": [
    "from sklearn.preprocessing import StandardScaler\n",
    "sc = StandardScaler()\n",
    "\n",
    "\n",
    "X_train = sc.fit_transform(X_train)\n",
    "X_test = sc.transform(X_test)\n"
   ]
  },
  {
   "cell_type": "code",
   "execution_count": 43,
   "id": "63a72197-6600-49c1-a7e2-07c651ca7a42",
   "metadata": {},
   "outputs": [
    {
     "name": "stdout",
     "output_type": "stream",
     "text": [
      "Train : \n",
      "\n",
      "[[-0.86694055 -0.85824396  0.19721838 ... -0.32251905  0.5680564\n",
      "  -0.33689486]\n",
      " [-0.86694055 -0.85824396  0.19721838 ... -0.32251905 -1.76038857\n",
      "  -1.64678048]\n",
      " [-0.86694055 -0.85824396  0.19721838 ... -0.32251905  0.5680564\n",
      "  -0.66436626]\n",
      " ...\n",
      " [ 1.15348163  1.16516987  0.19721838 ...  3.10059201 -1.76038857\n",
      "   1.62793357]\n",
      " [ 1.15348163  1.16516987  0.19721838 ...  3.10059201  0.5680564\n",
      "   1.30046217]\n",
      " [-0.86694055 -0.85824396  0.19721838 ... -0.32251905  0.5680564\n",
      "   1.30046217]]\n",
      "[1 0 0 ... 0 0 2]\n",
      "\n",
      "Test : \n",
      "\n",
      "[[-0.86694055 -0.85824396  0.19721838 ... -0.32251905  0.5680564\n",
      "  -1.31930907]\n",
      " [-0.86694055 -0.85824396  0.19721838 ... -0.32251905 -1.76038857\n",
      "   0.97299076]\n",
      " [-0.86694055 -0.85824396  0.19721838 ... -0.32251905  0.5680564\n",
      "   0.31804795]\n",
      " ...\n",
      " [-0.86694055 -0.85824396  0.19721838 ... -0.32251905  0.5680564\n",
      "   0.31804795]\n",
      " [ 1.15348163 -0.85824396  0.19721838 ... -0.32251905  0.5680564\n",
      "  -0.33689486]\n",
      " [ 1.15348163  1.16516987  0.19721838 ... -0.32251905 -1.76038857\n",
      "   0.64551936]]\n",
      "[0 0 0 ... 0 2 0]\n"
     ]
    }
   ],
   "source": [
    "print(\"Train : \\n\")\n",
    "print(X_train)\n",
    "print(y_train)\n",
    "\n",
    "print(\"\\nTest : \\n\")\n",
    "print(X_test)\n",
    "print(y_test)"
   ]
  },
  {
   "cell_type": "markdown",
   "id": "017e961e-9471-4096-b8b9-a7729971e506",
   "metadata": {},
   "source": [
    "# Training "
   ]
  },
  {
   "cell_type": "code",
   "execution_count": 24,
   "id": "cd738b3e-4337-450b-ba58-e7894ae1ed67",
   "metadata": {},
   "outputs": [
    {
     "data": {
      "text/html": [
       "<style>#sk-container-id-2 {color: black;}#sk-container-id-2 pre{padding: 0;}#sk-container-id-2 div.sk-toggleable {background-color: white;}#sk-container-id-2 label.sk-toggleable__label {cursor: pointer;display: block;width: 100%;margin-bottom: 0;padding: 0.3em;box-sizing: border-box;text-align: center;}#sk-container-id-2 label.sk-toggleable__label-arrow:before {content: \"▸\";float: left;margin-right: 0.25em;color: #696969;}#sk-container-id-2 label.sk-toggleable__label-arrow:hover:before {color: black;}#sk-container-id-2 div.sk-estimator:hover label.sk-toggleable__label-arrow:before {color: black;}#sk-container-id-2 div.sk-toggleable__content {max-height: 0;max-width: 0;overflow: hidden;text-align: left;background-color: #f0f8ff;}#sk-container-id-2 div.sk-toggleable__content pre {margin: 0.2em;color: black;border-radius: 0.25em;background-color: #f0f8ff;}#sk-container-id-2 input.sk-toggleable__control:checked~div.sk-toggleable__content {max-height: 200px;max-width: 100%;overflow: auto;}#sk-container-id-2 input.sk-toggleable__control:checked~label.sk-toggleable__label-arrow:before {content: \"▾\";}#sk-container-id-2 div.sk-estimator input.sk-toggleable__control:checked~label.sk-toggleable__label {background-color: #d4ebff;}#sk-container-id-2 div.sk-label input.sk-toggleable__control:checked~label.sk-toggleable__label {background-color: #d4ebff;}#sk-container-id-2 input.sk-hidden--visually {border: 0;clip: rect(1px 1px 1px 1px);clip: rect(1px, 1px, 1px, 1px);height: 1px;margin: -1px;overflow: hidden;padding: 0;position: absolute;width: 1px;}#sk-container-id-2 div.sk-estimator {font-family: monospace;background-color: #f0f8ff;border: 1px dotted black;border-radius: 0.25em;box-sizing: border-box;margin-bottom: 0.5em;}#sk-container-id-2 div.sk-estimator:hover {background-color: #d4ebff;}#sk-container-id-2 div.sk-parallel-item::after {content: \"\";width: 100%;border-bottom: 1px solid gray;flex-grow: 1;}#sk-container-id-2 div.sk-label:hover label.sk-toggleable__label {background-color: #d4ebff;}#sk-container-id-2 div.sk-serial::before {content: \"\";position: absolute;border-left: 1px solid gray;box-sizing: border-box;top: 0;bottom: 0;left: 50%;z-index: 0;}#sk-container-id-2 div.sk-serial {display: flex;flex-direction: column;align-items: center;background-color: white;padding-right: 0.2em;padding-left: 0.2em;position: relative;}#sk-container-id-2 div.sk-item {position: relative;z-index: 1;}#sk-container-id-2 div.sk-parallel {display: flex;align-items: stretch;justify-content: center;background-color: white;position: relative;}#sk-container-id-2 div.sk-item::before, #sk-container-id-2 div.sk-parallel-item::before {content: \"\";position: absolute;border-left: 1px solid gray;box-sizing: border-box;top: 0;bottom: 0;left: 50%;z-index: -1;}#sk-container-id-2 div.sk-parallel-item {display: flex;flex-direction: column;z-index: 1;position: relative;background-color: white;}#sk-container-id-2 div.sk-parallel-item:first-child::after {align-self: flex-end;width: 50%;}#sk-container-id-2 div.sk-parallel-item:last-child::after {align-self: flex-start;width: 50%;}#sk-container-id-2 div.sk-parallel-item:only-child::after {width: 0;}#sk-container-id-2 div.sk-dashed-wrapped {border: 1px dashed gray;margin: 0 0.4em 0.5em 0.4em;box-sizing: border-box;padding-bottom: 0.4em;background-color: white;}#sk-container-id-2 div.sk-label label {font-family: monospace;font-weight: bold;display: inline-block;line-height: 1.2em;}#sk-container-id-2 div.sk-label-container {text-align: center;}#sk-container-id-2 div.sk-container {/* jupyter's `normalize.less` sets `[hidden] { display: none; }` but bootstrap.min.css set `[hidden] { display: none !important; }` so we also need the `!important` here to be able to override the default hidden behavior on the sphinx rendered scikit-learn.org. See: https://github.com/scikit-learn/scikit-learn/issues/21755 */display: inline-block !important;position: relative;}#sk-container-id-2 div.sk-text-repr-fallback {display: none;}</style><div id=\"sk-container-id-2\" class=\"sk-top-container\"><div class=\"sk-text-repr-fallback\"><pre>RandomForestClassifier(criterion=&#x27;entropy&#x27;, n_estimators=10, random_state=0)</pre><b>In a Jupyter environment, please rerun this cell to show the HTML representation or trust the notebook. <br />On GitHub, the HTML representation is unable to render, please try loading this page with nbviewer.org.</b></div><div class=\"sk-container\" hidden><div class=\"sk-item\"><div class=\"sk-estimator sk-toggleable\"><input class=\"sk-toggleable__control sk-hidden--visually\" id=\"sk-estimator-id-2\" type=\"checkbox\" checked><label for=\"sk-estimator-id-2\" class=\"sk-toggleable__label sk-toggleable__label-arrow\">RandomForestClassifier</label><div class=\"sk-toggleable__content\"><pre>RandomForestClassifier(criterion=&#x27;entropy&#x27;, n_estimators=10, random_state=0)</pre></div></div></div></div></div>"
      ],
      "text/plain": [
       "RandomForestClassifier(criterion='entropy', n_estimators=10, random_state=0)"
      ]
     },
     "execution_count": 24,
     "metadata": {},
     "output_type": "execute_result"
    }
   ],
   "source": [
    "from sklearn.linear_model import LogisticRegression\n",
    "classifier = LogisticRegression(random_state = 0)\n",
    "classifier.fit(X_train, y_train)\n",
    "\n",
    "\n",
    "from sklearn.naive_bayes import GaussianNB\n",
    "classifier2 = GaussianNB()\n",
    "classifier2.fit(X_train, y_train)\n",
    "\n",
    "\n",
    "\n",
    "from sklearn.neighbors import KNeighborsClassifier\n",
    "classifier3 = KNeighborsClassifier(n_neighbors = 6, metric = 'minkowski', p = 2)\n",
    "classifier3.fit(X_train, y_train)\n",
    "\n",
    "\n",
    "\n",
    "from sklearn.tree import DecisionTreeClassifier\n",
    "classifier4 = DecisionTreeClassifier(criterion = 'entropy', random_state = 0)\n",
    "classifier4.fit(X_train, y_train)\n",
    "\n",
    "\n",
    "\n",
    "from sklearn.ensemble import RandomForestClassifier\n",
    "classifier5 = RandomForestClassifier(n_estimators = 10, criterion = 'entropy', random_state = 0)\n",
    "classifier5.fit(X_train, y_train)"
   ]
  },
  {
   "cell_type": "markdown",
   "id": "648a8c39-0a00-4a85-8064-9321e6435263",
   "metadata": {},
   "source": [
    "# For deep learning converting to tensorflow categorical "
   ]
  },
  {
   "cell_type": "code",
   "execution_count": 25,
   "id": "a2e328e5-6ade-41aa-80fd-88606ac51726",
   "metadata": {},
   "outputs": [],
   "source": [
    "y_train_tf = tf.keras.utils.to_categorical(y_train, num_classes=3)\n",
    "y_test_tf = tf.keras.utils.to_categorical(y_test, num_classes=3)"
   ]
  },
  {
   "cell_type": "markdown",
   "id": "0275d832-b4e9-4942-9c1e-4be369340db2",
   "metadata": {},
   "source": [
    "# Deep Learning Improvement (Maybe i guess....)"
   ]
  },
  {
   "cell_type": "code",
   "execution_count": 31,
   "id": "ed71abe2-f453-4998-88be-8bfd9cccd688",
   "metadata": {},
   "outputs": [
    {
     "name": "stdout",
     "output_type": "stream",
     "text": [
      "Epoch 1/10\n",
      "6342/6342 [==============================] - 7s 1ms/step - loss: 0.4222 - accuracy: 0.8443 - val_loss: 0.4150 - val_accuracy: 0.8442\n",
      "Epoch 2/10\n",
      "6342/6342 [==============================] - 7s 1ms/step - loss: 0.4150 - accuracy: 0.8454 - val_loss: 0.4156 - val_accuracy: 0.8442\n",
      "Epoch 3/10\n",
      "6342/6342 [==============================] - 7s 1ms/step - loss: 0.4141 - accuracy: 0.8457 - val_loss: 0.4131 - val_accuracy: 0.8452\n",
      "Epoch 4/10\n",
      "6342/6342 [==============================] - 7s 1ms/step - loss: 0.4138 - accuracy: 0.8461 - val_loss: 0.4141 - val_accuracy: 0.8451\n",
      "Epoch 5/10\n",
      "6342/6342 [==============================] - 7s 1ms/step - loss: 0.4135 - accuracy: 0.8463 - val_loss: 0.4122 - val_accuracy: 0.8458\n",
      "Epoch 6/10\n",
      "6342/6342 [==============================] - 7s 1ms/step - loss: 0.4133 - accuracy: 0.8459 - val_loss: 0.4121 - val_accuracy: 0.8453\n",
      "Epoch 7/10\n",
      "6342/6342 [==============================] - 6s 1ms/step - loss: 0.4130 - accuracy: 0.8462 - val_loss: 0.4116 - val_accuracy: 0.8461\n",
      "Epoch 8/10\n",
      "6342/6342 [==============================] - 6s 1ms/step - loss: 0.4128 - accuracy: 0.8463 - val_loss: 0.4131 - val_accuracy: 0.8452\n",
      "Epoch 9/10\n",
      "6342/6342 [==============================] - 7s 1ms/step - loss: 0.4127 - accuracy: 0.8462 - val_loss: 0.4119 - val_accuracy: 0.8458\n",
      "Epoch 10/10\n",
      "6342/6342 [==============================] - 6s 1ms/step - loss: 0.4127 - accuracy: 0.8463 - val_loss: 0.4116 - val_accuracy: 0.8459\n"
     ]
    },
    {
     "data": {
      "text/plain": [
       "<keras.src.callbacks.History at 0x1d74badc650>"
      ]
     },
     "execution_count": 31,
     "metadata": {},
     "output_type": "execute_result"
    }
   ],
   "source": [
    "ann = tf.keras.models.Sequential()\n",
    "ann.add(tf.keras.layers.Dense(units=10, activation='relu'))\n",
    "ann.add(tf.keras.layers.Dense(units=10, activation='relu'))\n",
    "ann.add(tf.keras.layers.Dense(units=20, activation='relu'))\n",
    "\n",
    "ann.add(tf.keras.layers.Dense(units=3, activation='softmax'))\n",
    "ann.compile(optimizer = 'adam', loss = 'categorical_crossentropy', metrics = ['accuracy'])\n",
    "ann.fit(X_train, y_train_tf, batch_size = 32, epochs = 10,validation_data=(X_test, y_test_tf))\n",
    "\n",
    "# slight improvement"
   ]
  },
  {
   "cell_type": "code",
   "execution_count": 27,
   "id": "8f8ddfa0-9450-46aa-bdce-4893cd426648",
   "metadata": {},
   "outputs": [],
   "source": [
    "\n",
    "y_pred = classifier.predict(X_test)\n",
    "\n",
    "y_pred_2 = classifier2.predict(X_test)\n",
    "\n",
    "y_pred_3 = classifier3.predict(X_test)\n",
    "\n",
    "y_pred_4 = classifier4.predict(X_test)\n",
    "\n",
    "y_pred_5 = classifier5.predict(X_test)"
   ]
  },
  {
   "cell_type": "markdown",
   "id": "c08a2700-99f2-467c-931e-5d4bfca3bb93",
   "metadata": {},
   "source": [
    "# Confusion Matrix and Accuracy of all models(except ANN)"
   ]
  },
  {
   "cell_type": "code",
   "execution_count": 32,
   "id": "afd3bc3a-e97b-4666-95b1-ea33f04708e3",
   "metadata": {},
   "outputs": [
    {
     "name": "stdout",
     "output_type": "stream",
     "text": [
      "[[42007     0   610]\n",
      " [  867     0    41]\n",
      " [ 6474     0   737]]\n",
      "Logistic Regression :  0.8424787133396405\n",
      "0.7903066855881425\n",
      "0.834180857773573\n",
      "0.8367431409649952\n",
      "0.8354817092399874\n"
     ]
    }
   ],
   "source": [
    "from sklearn.metrics import confusion_matrix, accuracy_score\n",
    "cm = confusion_matrix(y_test, y_pred)\n",
    "print(cm)\n",
    "\n",
    "\n",
    "print(\"Logistic Regression : \",accuracy_score(y_test, y_pred))\n",
    "print(accuracy_score(y_test, y_pred_2))\n",
    "print(accuracy_score(y_test, y_pred_3))\n",
    "print(accuracy_score(y_test, y_pred_4))\n",
    "print(accuracy_score(y_test, y_pred_5))"
   ]
  },
  {
   "cell_type": "code",
   "execution_count": 29,
   "id": "a2ef5b43-cfea-4166-ad59-f835ab19ebe5",
   "metadata": {},
   "outputs": [],
   "source": [
    "# joblib.dump(classifier, 'diabetes.joblib')\n",
    "# joblib.dump(sc, 'scaler.joblib')"
   ]
  },
  {
   "cell_type": "code",
   "execution_count": null,
   "id": "310629ce-732a-419c-9303-f2040b05012b",
   "metadata": {},
   "outputs": [],
   "source": []
  }
 ],
 "metadata": {
  "kernelspec": {
   "display_name": "Python 3 (ipykernel)",
   "language": "python",
   "name": "python3"
  },
  "language_info": {
   "codemirror_mode": {
    "name": "ipython",
    "version": 3
   },
   "file_extension": ".py",
   "mimetype": "text/x-python",
   "name": "python",
   "nbconvert_exporter": "python",
   "pygments_lexer": "ipython3",
   "version": "3.11.6"
  }
 },
 "nbformat": 4,
 "nbformat_minor": 5
}
